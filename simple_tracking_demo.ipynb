{
 "cells": [
  {
   "cell_type": "markdown",
   "metadata": {},
   "source": "# Simple Trajectory Tracking Demo\nTrack circular trajectory using TinyMPC hardware solver"
  },
  {
   "cell_type": "code",
   "execution_count": null,
   "metadata": {},
   "outputs": [],
   "source": "import numpy as np\nimport matplotlib.pyplot as plt\nimport sys\nimport os\n\n# Import dynamics module\nfrom dynamics import LinearizedQuadcopterDynamics, CrazyflieParams, NoiseModel\n\n# Import hardware solver\nsys.path.append('driver')\nfrom tinympc_hw import tinympc_hw\n\nprint(\"All modules imported successfully\")"
  },
  {
   "cell_type": "markdown",
   "metadata": {},
   "source": "## 1. Initialize System Parameters"
  },
  {
   "cell_type": "code",
   "execution_count": null,
   "metadata": {},
   "outputs": [],
   "source": "# System parameters\ncontrol_freq = 50.0  # Control frequency Hz\ndt = 1.0 / control_freq\nsim_duration = 15.0  # Simulation duration in seconds\nN = int(sim_duration * control_freq)  # Total steps\nhorizon = 10  # MPC prediction horizon\n\n# Initialize dynamics model\nparams = CrazyflieParams()\nnoise_model = NoiseModel()\ndynamics = LinearizedQuadcopterDynamics(params, noise_model)\n\n# Generate system matrices\nA, B = dynamics.generate_system_matrices(control_freq)\nQ, R = dynamics.generate_cost_matrices()\nconstraints = dynamics.generate_constraints()\n\nprint(f\"System dimensions: nx={A.shape[0]}, nu={B.shape[1]}\")\nprint(f\"Control frequency: {control_freq} Hz\")\nprint(f\"Prediction horizon: {horizon}\")"
  },
  {
   "cell_type": "markdown",
   "metadata": {},
   "source": "## 2. Generate Circular Reference Trajectory"
  },
  {
   "cell_type": "code",
   "execution_count": null,
   "metadata": {},
   "outputs": [],
   "source": "# Circular trajectory parameters\nradius = 1.5  # Radius\ncenter = [0, 0, 1.2]  # Center\nomega = 2 * np.pi / sim_duration  # Angular velocity\n\n# Generate time series\nt = np.linspace(0, sim_duration, N)\n\n# Generate reference trajectory (12-dimensional state)\nX_ref = np.zeros((12, N))\nX_ref[0, :] = center[0] + radius * np.cos(omega * t)  # x\nX_ref[1, :] = center[1] + radius * np.sin(omega * t)  # y  \nX_ref[2, :] = center[2]  # z (constant altitude)\nX_ref[6, :] = -radius * omega * np.sin(omega * t)  # vx\nX_ref[7, :] = radius * omega * np.cos(omega * t)   # vy\nX_ref[8, :] = 0  # vz\n# Other states remain zero\n\n# Reference control inputs (hover)\nU_ref = np.zeros((4, N-1))\n\nprint(f\"Reference trajectory generated: {X_ref.shape}\")\nprint(f\"Trajectory radius: {radius} m\")\nprint(f\"Trajectory altitude: {center[2]} m\")\n\n# Visualize reference trajectory\nplt.figure(figsize=(8, 6))\nplt.plot(X_ref[0, :], X_ref[1, :], 'r--', linewidth=2, label='Reference Trajectory')\nplt.plot(X_ref[0, 0], X_ref[1, 0], 'go', markersize=8, label='Start Point')\nplt.xlabel('X (m)')\nplt.ylabel('Y (m)')\nplt.title('Circular Reference Trajectory')\nplt.legend()\nplt.grid(True)\nplt.axis('equal')\nplt.show()"
  },
  {
   "cell_type": "markdown",
   "metadata": {},
   "source": "## 3. Initialize Hardware Solver"
  },
  {
   "cell_type": "code",
   "execution_count": null,
   "metadata": {},
   "outputs": [],
   "source": "# Find available bitstream files\nbitstream_files = []\nfor file in os.listdir('.'):\n    if file.endswith('.bit'):\n        bitstream_files.append(file)\n\nprint(f\"Found bitstream files: {bitstream_files}\")\n\n# Initialize hardware solver\ntry:\n    # Use the first found bitstream file, or use default path\n    if bitstream_files:\n        bitstream_path = bitstream_files[0]\n    else:\n        # Try default path\n        bitstream_path = 'tinympcproj_N10_50Hz_float.bit'\n    \n    print(f\"Trying to load bitstream: {bitstream_path}\")\n    \n    # Create hardware solver instance\n    mpc_hw = tinympc_hw(bitstream_path=bitstream_path)\n    \n    if mpc_hw.loaded:\n        print(\"Hardware solver initialized successfully\")\n        print(f\"System parameters: N={mpc_hw.N}, nx={mpc_hw.nx}, nu={mpc_hw.nu}\")\n        use_hardware = True\n    else:\n        print(\"Hardware solver initialization failed, will use software solver\")\n        use_hardware = False\n        \nexcept Exception as e:\n    print(f\"Hardware solver initialization error: {e}\")\n    print(\"Will use software simulation mode\")\n    use_hardware = False\n    mpc_hw = None"
  },
  {
   "cell_type": "markdown",
   "metadata": {},
   "source": "## 4. Run Trajectory Tracking Simulation"
  },
  {
   "cell_type": "code",
   "execution_count": null,
   "metadata": {},
   "outputs": [],
   "source": "# Initialize simulation state\nx_current = X_ref[:, 0] + np.random.normal(0, 0.1, 12)  # Initial state (with some noise)\nx_current[2] = max(x_current[2], 0.5)  # Ensure above ground\n\n# Store history data\nx_history = [x_current.copy()]\nu_history = []\n\nprint(f\"Starting simulation, total {N-1} steps...\")\nprint(f\"Initial position: [{x_current[0]:.3f}, {x_current[1]:.3f}, {x_current[2]:.3f}]\")\n\n# Simulation loop\nfor step in range(N-1):\n    # Get reference trajectory segment for current time\n    X_ref_horizon = np.zeros((12, horizon))\n    U_ref_horizon = np.zeros((4, horizon-1))\n    \n    for i in range(horizon):\n        ref_idx = min(step + i, N-1)\n        X_ref_horizon[:, i] = X_ref[:, ref_idx]\n    \n    # Solve MPC problem\n    if use_hardware and mpc_hw is not None:\n        try:\n            # Set problem data\n            mpc_hw.set_x0(x_current)\n            mpc_hw.set_x_ref(X_ref_horizon.T)  # Transpose to (N, nx)\n            mpc_hw.set_u_ref(U_ref_horizon.T)  # Transpose to (N-1, nu)\n            \n            # Solve\n            success = mpc_hw.solve(timeout=1.0)\n            \n            if success and mpc_hw.solved:\n                u_control = mpc_hw.u[0, :] if len(mpc_hw.u) > 0 else np.zeros(4)\n            else:\n                u_control = np.zeros(4)  # Hover control\n        except Exception as e:\n            if step < 5:  # Only show errors in first few steps\n                print(f\"Step {step} hardware solve error: {e}\")\n            u_control = np.zeros(4)\n    else:\n        # Simple software simulation (PD controller)\n        ref_pos = X_ref[:3, step]\n        ref_vel = X_ref[6:9, step]\n        \n        pos_error = ref_pos - x_current[:3]\n        vel_error = ref_vel - x_current[6:9]\n        \n        # Simple PD control\n        kp = 2.0\n        kd = 1.0\n        u_control = np.array([\n            params.mass * params.gravity + kp * pos_error[2] + kd * vel_error[2],  # thrust\n            kp * pos_error[1] + kd * vel_error[1],  # roll torque\n            kp * pos_error[0] + kd * vel_error[0],  # pitch torque  \n            0.0  # yaw torque\n        ])\n    \n    # Add actuator noise\n    u_noisy = u_control * (1 + np.random.normal(0, 0.02, 4))\n    \n    # Forward simulation\n    process_noise = np.random.normal(0, noise_model.get_state_noise_std(dt))\n    gravity_disturbance = getattr(dynamics, 'gravity_disturbance', np.zeros(12))\n    x_next = A @ x_current + B @ u_noisy + process_noise + gravity_disturbance\n    \n    # Apply constraints\n    x_next = np.clip(x_next, constraints['x_min'], constraints['x_max'])\n    \n    # Store history\n    x_current = x_next\n    x_history.append(x_current.copy())\n    u_history.append(u_control.copy())\n    \n    # Show progress\n    if (step + 1) % 50 == 0:\n        pos_error = np.linalg.norm(x_current[:3] - X_ref[:3, step])\n        print(f\"Step {step+1}/{N-1}, position error: {pos_error:.4f} m\")\n\nprint(\"Simulation completed!\")\n\n# Convert to numpy arrays\nx_history = np.array(x_history)\nu_history = np.array(u_history)\n\nprint(f\"Actual trajectory shape: {x_history.shape}\")\nprint(f\"Control input shape: {u_history.shape}\")"
  },
  {
   "cell_type": "markdown",
   "metadata": {},
   "source": "## 5. Visualize Trajectory Tracking Results"
  },
  {
   "cell_type": "code",
   "execution_count": null,
   "metadata": {},
   "outputs": [],
   "source": "# Create comprehensive visualization\nfig, ((ax1, ax2), (ax3, ax4)) = plt.subplots(2, 2, figsize=(15, 12))\n\n# 1. XY trajectory comparison\nax1.plot(X_ref[0, :], X_ref[1, :], 'r--', linewidth=2, label='Reference Trajectory', alpha=0.8)\nax1.plot(x_history[:, 0], x_history[:, 1], 'b-', linewidth=2, label='Actual Trajectory')\nax1.plot(x_history[0, 0], x_history[0, 1], 'go', markersize=8, label='Start Point')\nax1.plot(x_history[-1, 0], x_history[-1, 1], 'rs', markersize=8, label='End Point')\nax1.set_xlabel('X Position (m)')\nax1.set_ylabel('Y Position (m)')\nax1.set_title('Trajectory Tracking Results (XY View)')\nax1.legend()\nax1.grid(True, alpha=0.3)\nax1.axis('equal')\n\n# 2. Position error\nposition_errors = []\nfor i in range(len(x_history)):\n    ref_idx = min(i, X_ref.shape[1]-1)\n    error = np.linalg.norm(x_history[i, :3] - X_ref[:3, ref_idx])\n    position_errors.append(error)\n\ntime_vec = np.linspace(0, sim_duration, len(position_errors))\nax2.plot(time_vec, position_errors, 'g-', linewidth=2)\nax2.set_xlabel('Time (s)')\nax2.set_ylabel('Position Error (m)')\nax2.set_title('Position Tracking Error')\nax2.grid(True, alpha=0.3)\n\n# Add error statistics\nmean_error = np.mean(position_errors)\nmax_error = np.max(position_errors)\nax2.axhline(y=mean_error, color='orange', linestyle='--', alpha=0.7, \n           label=f'Mean error: {mean_error:.3f} m')\nax2.axhline(y=max_error, color='red', linestyle='--', alpha=0.7,\n           label=f'Max error: {max_error:.3f} m')\nax2.legend()\n\n# 3. Altitude tracking\nax3.plot(time_vec, X_ref[2, :len(time_vec)], 'r--', linewidth=2, label='Reference Altitude', alpha=0.8)\nax3.plot(time_vec, x_history[:, 2], 'b-', linewidth=2, label='Actual Altitude')\nax3.set_xlabel('Time (s)')\nax3.set_ylabel('Z Position (m)')\nax3.set_title('Altitude Tracking')\nax3.legend()\nax3.grid(True, alpha=0.3)\n\n# 4. Control inputs\nif len(u_history) > 0:\n    control_time = time_vec[1:len(u_history)+1]\n    ax4.plot(control_time, u_history[:, 0], label='Thrust', linewidth=1.5)\n    ax4.plot(control_time, u_history[:, 1], label='Roll Torque', linewidth=1.5)\n    ax4.plot(control_time, u_history[:, 2], label='Pitch Torque', linewidth=1.5)\n    ax4.plot(control_time, u_history[:, 3], label='Yaw Torque', linewidth=1.5)\n    ax4.set_xlabel('Time (s)')\n    ax4.set_ylabel('Control Signal')\n    ax4.set_title('Control Inputs')\n    ax4.legend()\n    ax4.grid(True, alpha=0.3)\n\nplt.tight_layout()\nplt.show()\n\n# Print performance statistics\nprint(f\"\\n=== Trajectory Tracking Performance Statistics ===\")\nprint(f\"Simulation duration: {sim_duration:.1f} seconds\")\nprint(f\"Simulation steps: {len(x_history)} steps\")\nprint(f\"Solver type: {'Hardware' if use_hardware else 'Software PD Control'}\")\nprint(f\"Final position error: {position_errors[-1]:.4f} m\")\nprint(f\"Mean position error: {mean_error:.4f} m\")\nprint(f\"Max position error: {max_error:.4f} m\")\nprint(f\"Position error std dev: {np.std(position_errors):.4f} m\")\n\n# Calculate trajectory completion\nfinal_pos = x_history[-1, :3]\ntarget_pos = X_ref[:3, -1]\ncompletion_error = np.linalg.norm(final_pos - target_pos)\nprint(f\"Trajectory completion error: {completion_error:.4f} m\")\n\nif use_hardware and mpc_hw is not None:\n    print(f\"\\nHardware solver information:\")\n    print(f\"  Max iterations: {mpc_hw.max_iter}\")\n    print(f\"  Termination check interval: {mpc_hw.check_termination}\")"
  },
  {
   "cell_type": "markdown",
   "metadata": {},
   "source": "## Summary\n\nThis simple demo demonstrates:\n1. Real-time trajectory tracking using TinyMPC hardware solver\n2. Generation and tracking of circular reference trajectory\n3. Visualization and analysis of trajectory tracking performance\n4. Switching between hardware solver and software fallback\n\nIf the hardware solver is unavailable, the system will automatically switch to a simple PD controller for software simulation."
  }
 ],
 "metadata": {
  "kernelspec": {
   "display_name": "Python 3",
   "language": "python",
   "name": "python3"
  },
  "language_info": {
   "codemirror_mode": {
    "name": "ipython",
    "version": 3
   },
   "file_extension": ".py",
   "mimetype": "text/x-python",
   "name": "python",
   "nbconvert_exporter": "python",
   "pygments_lexer": "ipython3",
   "version": "3.6.5"
  }
 },
 "nbformat": 4,
 "nbformat_minor": 4
}